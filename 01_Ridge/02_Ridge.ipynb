{
 "metadata": {
  "language_info": {
   "codemirror_mode": {
    "name": "ipython",
    "version": 3
   },
   "file_extension": ".py",
   "mimetype": "text/x-python",
   "name": "python",
   "nbconvert_exporter": "python",
   "pygments_lexer": "ipython3",
   "version": "3.8.6-final"
  },
  "orig_nbformat": 2,
  "kernelspec": {
   "name": "python3",
   "display_name": "Python 3",
   "language": "python"
  }
 },
 "nbformat": 4,
 "nbformat_minor": 2,
 "cells": [
  {
   "cell_type": "code",
   "execution_count": 1,
   "metadata": {},
   "outputs": [],
   "source": [
    "# 모듈 불러오기\n",
    "from sklearn.model_selection import train_test_split\n",
    "from sklearn.linear_model import Ridge\n",
    "from sklearn import datasets\n",
    "\n",
    "import pandas as pd"
   ]
  },
  {
   "cell_type": "code",
   "execution_count": 2,
   "metadata": {},
   "outputs": [],
   "source": [
    "# boston 데이터 불러오기\n",
    "boston_datasets = datasets.load_boston()\n",
    "boston_data = boston_datasets.data\n",
    "boston_target = boston_datasets.target"
   ]
  },
  {
   "cell_type": "code",
   "execution_count": 3,
   "metadata": {},
   "outputs": [],
   "source": [
    "# 데이터 추출하기\n",
    "train_boston_data, test_boston_data, train_boston_target, test_boston_target = train_test_split(boston_data, boston_target)"
   ]
  },
  {
   "cell_type": "code",
   "execution_count": 4,
   "metadata": {},
   "outputs": [],
   "source": [
    "# 변수 초기화\n",
    "result = dict()"
   ]
  },
  {
   "cell_type": "code",
   "execution_count": 5,
   "metadata": {},
   "outputs": [],
   "source": [
    "# 첫 번째 default alpha=1.0\n",
    "ridge = Ridge()\n",
    "ridge.fit(train_boston_data, train_boston_target)\n",
    "result['default'] = ridge.score(test_boston_data, test_boston_target)\n",
    "\n",
    "# 두 번째 alpha=0.5\n",
    "ridge_5 = Ridge(alpha=0.5)\n",
    "ridge_5.fit(train_boston_data, train_boston_target)\n",
    "result['alpha_5'] = ridge_5.score(test_boston_data, test_boston_target)\n",
    "\n",
    "# 세 번째 alpha=0.1\n",
    "ridge_1 = Ridge(alpha=0.1)\n",
    "ridge_1.fit(train_boston_data, train_boston_target)\n",
    "result['alpha_1'] = ridge_1.score(test_boston_data, test_boston_target)"
   ]
  },
  {
   "cell_type": "code",
   "execution_count": 6,
   "metadata": {},
   "outputs": [
    {
     "output_type": "stream",
     "name": "stdout",
     "text": [
      "default    0.719128\nalpha_5    0.721954\nalpha_1    0.725231\ndtype: float64\n"
     ]
    }
   ],
   "source": [
    "series = pd.Series(result)\n",
    "print(series)"
   ]
  },
  {
   "cell_type": "code",
   "execution_count": null,
   "metadata": {},
   "outputs": [],
   "source": []
  }
 ]
}
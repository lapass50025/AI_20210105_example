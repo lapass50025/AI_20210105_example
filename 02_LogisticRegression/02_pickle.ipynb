{
 "metadata": {
  "language_info": {
   "codemirror_mode": {
    "name": "ipython",
    "version": 3
   },
   "file_extension": ".py",
   "mimetype": "text/x-python",
   "name": "python",
   "nbconvert_exporter": "python",
   "pygments_lexer": "ipython3",
   "version": "3.8.6-final"
  },
  "orig_nbformat": 2,
  "kernelspec": {
   "name": "python3",
   "display_name": "Python 3",
   "language": "python"
  }
 },
 "nbformat": 4,
 "nbformat_minor": 2,
 "cells": [
  {
   "cell_type": "code",
   "execution_count": 1,
   "metadata": {},
   "outputs": [],
   "source": [
    "# 모듈 불러오기\n",
    "from sklearn.linear_model import LogisticRegression\n",
    "from sklearn.metrics import accuracy_score\n",
    "\n",
    "import pandas as pd\n",
    "import pickle"
   ]
  },
  {
   "cell_type": "code",
   "execution_count": 2,
   "metadata": {},
   "outputs": [
    {
     "output_type": "stream",
     "name": "stdout",
     "text": [
      "type : <class 'sklearn.linear_model._logistic.LogisticRegression'>\n"
     ]
    }
   ],
   "source": [
    "# 파일 읽기\n",
    "f = open(\"log.pkl\", \"rb\")\n",
    "log = pickle.load(f)\n",
    "f.close()\n",
    "\n",
    "print(\"type : {}\" .format(type(log)))"
   ]
  },
  {
   "cell_type": "code",
   "execution_count": 3,
   "metadata": {},
   "outputs": [],
   "source": [
    "# 타이타닉 훈련 데이터, 레이블 데이터 불러오기\n",
    "df = pd.read_excel(\"titanic.csv.xlsx\")\n",
    "\n",
    "titanic_x = df[['Pclass', 'SibSp', 'Parch', 'Embarked', 'Sex']]\n",
    "titanic_y = df['Survived']\n",
    "\n",
    "titanic_x_encoding = pd.get_dummies(titanic_x, columns=['Sex', 'Embarked', 'Pclass'])"
   ]
  },
  {
   "cell_type": "code",
   "execution_count": 4,
   "metadata": {},
   "outputs": [],
   "source": [
    "# 테스트하기\n",
    "predictions = log.predict(titanic_x_encoding)"
   ]
  },
  {
   "cell_type": "code",
   "execution_count": 5,
   "metadata": {},
   "outputs": [
    {
     "output_type": "execute_result",
     "data": {
      "text/plain": [
       "0.7946127946127947"
      ]
     },
     "metadata": {},
     "execution_count": 5
    }
   ],
   "source": [
    "# score\n",
    "accuracy_score(titanic_y, predictions)"
   ]
  },
  {
   "cell_type": "code",
   "execution_count": null,
   "metadata": {},
   "outputs": [],
   "source": []
  }
 ]
}